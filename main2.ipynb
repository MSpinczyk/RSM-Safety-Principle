{
 "cells": [
  {
   "cell_type": "code",
   "execution_count": 81,
   "metadata": {},
   "outputs": [],
   "source": [
    "import pandas as pd\n",
    "import numpy as np\n",
    "import matplotlib.pyplot as plt\n",
    "from typing import Dict, Optional, List, Union\n",
    "from numpy.linalg import norm\n",
    "\n",
    "df = pd.read_excel(\"zbior_punktow.xlsx\", 'Arkusz2')\n",
    "dct = dict()\n",
    "pkt_nazwa = list(df['U'])\n",
    "pkt_x = list(df['x'])\n",
    "pkt_y = list(df['y'])\n",
    "for i in range(len(pkt_x)):\n",
    "    dct[pkt_nazwa[i]] = (pkt_x[i], pkt_y[i])\n",
    "\n",
    "df2 = pd.read_excel(\"zbior_punktow.xlsx\", 'Arkusz3')\n",
    "\n",
    "A0_idx = df2.A0.to_list()\n",
    "A1_idx = df2.A1.to_list()\n",
    "A2_idx = df2.A2.to_list()\n",
    "A3_idx = df2.A3.to_list()\n",
    "\n",
    "A0 = []\n",
    "A1 = []\n",
    "A2 = []\n",
    "A3 = []\n",
    "\n",
    "for i in range(len(A0_idx)):\n",
    "    A0.append(dct[A0_idx[i]])\n",
    "    A1.append(dct[A1_idx[i]])\n",
    "    A2.append(dct[A2_idx[i]])\n",
    "    A3.append(dct[A3_idx[i]])\n",
    "\n",
    "B0 = []\n",
    "\n",
    "A1xmin = min([point[0] for point in A1])\n",
    "A2xmax = max([point[0] for point in A2])\n",
    "\n",
    "for point_name in dct.keys():\n",
    "    if A1xmin < dct[point_name][0] < A2xmax:\n",
    "        if (dct[point_name] not in A1) and (dct[point_name] not in A2) and (dct[point_name] not in A0) and (dct[point_name] not in A3):\n",
    "            B0.append(dct[point_name])"
   ]
  },
  {
   "cell_type": "code",
   "execution_count": 82,
   "metadata": {},
   "outputs": [],
   "source": [
    "def plot_points(zbior: Optional[Union[Dict, List]], dct: Dict=dct):\n",
    "    # plt.figure(figsize=(20, 15))\n",
    "\n",
    "    if isinstance(zbior, Dict):\n",
    "        fig, ax = plt.subplots()\n",
    "        fig.set_size_inches((20, 15))\n",
    "        ax.set_ylim((0, 40))\n",
    "        ax.set_xlim((0, 50))\n",
    "\n",
    "        ax.scatter([zbior[point][0] for point in zbior.keys()], [zbior[point][1] for point in zbior.keys()])\n",
    "\n",
    "        for key, coords in zbior.items():\n",
    "            ax.annotate(key, coords)\n",
    "\n",
    "    if isinstance(zbior, List):\n",
    "        fig, ax = plt.subplots()\n",
    "        fig.set_size_inches((20, 15))\n",
    "        ax.set_ylim((0, 40))\n",
    "        ax.set_xlim((0, 50))\n",
    "\n",
    "        ax.scatter([point[0] for point in zbior], [point[1] for point in zbior])\n",
    "\n",
    "        # dct = list(zbior.keys())[list(zbior.values()).index((point[0], point[1]))]\n",
    "        \n",
    "\n",
    "        for coords in zbior:\n",
    "            key = list(dct.keys())[list(dct.values()).index((coords[0], coords[1]))]\n",
    "            ax.annotate(key, coords)\n",
    "\n",
    "\n",
    "def krzywa_woronoya(u, A1_point, A2_point):\n",
    "    \"\"\"\n",
    "    Przyjmuje jako parametry dct[u] w postaci np. u = 'N11' \n",
    "    \"\"\"\n",
    "    fig, ax = plt.subplots()\n",
    "    fig.set_size_inches((10, 7))\n",
    "    ax.set_ylim((0, 40))\n",
    "    ax.set_xlim((0, 50))\n",
    "    _, f1, f2, _ = stworz_krzywa(A1_point, A2_point)\n",
    "    zbior = [u, A1_point, f1, f2, A2_point]\n",
    "\n",
    "    zbior_to_text = [u, A1_point, A2_point]\n",
    "    ax.scatter([point[0] for point in zbior], [point[1] for point in zbior])\n",
    "\n",
    "    # dct = list(zbior.keys())[list(zbior.values()).index((point[0], point[1]))]\n",
    "    ax.plot([zbior[i][0] for i in range(1, len(zbior))], [zbior[i][1] for i in range(1, len(zbior))])\n",
    "    for coords in zbior_to_text:\n",
    "        key = list(dct.keys())[list(dct.values()).index((coords[0], coords[1]))]\n",
    "        ax.annotate('  '+key+f' {coords}', coords)\n",
    "    ax.annotate(f'f1: {f1}', f1)\n",
    "    ax.annotate(f'f2: {f2}', f2)\n"
   ]
  },
  {
   "cell_type": "code",
   "execution_count": 83,
   "metadata": {},
   "outputs": [
    {
     "name": "stdout",
     "output_type": "stream",
     "text": [
      "(5.756193009427624, 8.5, 8.179576972683538, 5.756193009427624)\n"
     ]
    },
    {
     "data": {
      "image/png": "[encoded data removed]",
      "text/plain": [
       "<Figure size 720x504 with 1 Axes>"
      ]
     },
     "metadata": {
      "needs_background": "light"
     },
     "output_type": "display_data"
    }
   ],
   "source": [
    "def oblicz_d(A1_point,A2_point):\n",
    "    x_A1, y_A1 = A1_point\n",
    "    x_A2, y_A2 = A2_point\n",
    "    d1 = (x_A2 - x_A1)/2\n",
    "    d2 = (y_A2 - y_A1)/2\n",
    "    # print(d1,d2)\n",
    "    # if d1 > d2:\n",
    "    #     d1, d2 = d2, d1\n",
    "    return min(d1,d2)\n",
    "\n",
    "def stworz_krzywa(A1_point,A2_point):\n",
    "    d = oblicz_d(A1_point,A2_point)\n",
    "    x_A1, y_A1 = A1_point\n",
    "    x_A2, y_A2 = A2_point\n",
    "    f1 = (x_A1+d,y_A1+d) \n",
    "    f2 = (x_A2-d,y_A2-d)\n",
    "    return (A1_point,f1,f2,A2_point)\n",
    "\n",
    "# def oblicz_odleglosc(u,A1_point,A2_point):\n",
    "#     A1_point, f1, f2, A2_point = stworz_krzywa(A1_point,A2_point)\n",
    "#     # print(A1_point, f1, f2, A2_point)\n",
    "#     lista = [A1_point, f1, f2, A2_point]\n",
    "#     x_u, y_u = u\n",
    "#     odle = []\n",
    "#     for i in range(3):\n",
    "#         if lista[i][0]-lista[i+1][0] == 0:\n",
    "#             A = 0\n",
    "#             B = -1\n",
    "#             C = 0\n",
    "#         else: \n",
    "#             B = -1\n",
    "#             A = (lista[i][1]-lista[i+1][1])/(lista[i][0]-lista[i+1][0])\n",
    "#             C = lista[i][1] - lista[i][0]*(lista[i][1]-lista[i+1][1])/(lista[i][0]-lista[i+1][0])\n",
    "#         odle.append((abs(A*x_u + B*y_u + C))/(A**2+B**2)**(1/2))\n",
    "#     return min(odle), odle.index(min(odle)), f1, f2\n",
    "\n",
    "# def oblicz_odleglosc(u, A1_point, A2_point):\n",
    "#     A1_point, f1, f2, A2_point = stworz_krzywa(A1_point,A2_point)\n",
    "#     # print(A1_point, f1, f2, A2_point)\n",
    "#     lista = [A1_point, f1, f2, A2_point]\n",
    "#     x_u, y_u = u\n",
    "\n",
    "#     a1 = (f1[1] - A1_point[1])/(f1[0] - A1_point[0])\n",
    "#     b1 = f1[1]-(a1*f1[0])\n",
    "\n",
    "    \n",
    "#     a_prost = -1*a1\n",
    "#     b_prost = f1[1]/(a_prost*f1[0])\n",
    "\n",
    "#     y_prost = lambda x: a_prost*x+b_prost\n",
    "\n",
    "#     d1 = np.Inf\n",
    "#     d2 = np.Inf\n",
    "#     d3 = np.Inf\n",
    "#     # print(a1, b1)\n",
    "    \n",
    "#     # dla 1 przypadku odcinek A1_point do f1\n",
    "#     if y_prost(x_u) < y_u:\n",
    "#         d1 = ((x_u - f1[0])**2 + (y_u - f1[1])**2)**(1/2)\n",
    "#     else:\n",
    "#         d1 = abs(a1*x_u-y_u + b1)/(a1**2+1)**0.5\n",
    "\n",
    "#     # dla 2 przypadku odcinek f1, f2\n",
    "#     if f1[0] == f2[0]:\n",
    "#         if f1[1] > y_u:\n",
    "#             d2 = ((x_u - f1[0])**2 + (y_u - f1[1])**2)**(1/2)\n",
    "#         else:\n",
    "#             d2 = abs(f1[1]-y_u)\n",
    "#     else:\n",
    "#         # 1 przypadek - punkt x_u znajduje się przed f1[0]\n",
    "#         if x_u < f1[0]:\n",
    "#             d2 = ((x_u - f1[0])**2 + (y_u - f1[1])**2)**(1/2)\n",
    "        \n",
    "#         elif f1[0] < x_u < f2[0]:\n",
    "#             d2 = abs(y_u-f1[1])\n",
    "        \n",
    "#         else:\n",
    "#             # wieksze od f2\n",
    "#             d2 = ((x_u - f2[0])**2 + (y_u - f2[1])**2)**(1/2)\n",
    "\n",
    "#     # dla 3 przypadku odcinek f2, A2_point\n",
    "#     a2 = (A2_point[1] - f2[1])/(A2_point[0] - f2[0])\n",
    "#     b2 = f2[1]-(a2*f2[0])\n",
    "\n",
    "#     a2_prost = -1*a2\n",
    "#     b2_prost = f2[1]/(a2_prost*f2[0])\n",
    "\n",
    "#     y2_prost = lambda x: a2_prost*x+b2_prost\n",
    "\n",
    "#     if y2_prost(x_u) > y_u:\n",
    "#         d3 = ((x_u - f2[0])**2 + (y_u - f2[1])**2)**(1/2)\n",
    "    \n",
    "#     else:\n",
    "#         d3 = abs(a2*x_u-y_u + b2)/(a2**2+1)**0.5\n",
    "    \n",
    "#     print(d1, d2, d3)\n",
    "#     return min(d1, d2, d3), f1, f2\n",
    "\n",
    "def oblicz_odleglosc(u, A1_point, A2_point):\n",
    "    A1_point, f1, f2, A2_point = stworz_krzywa(A1_point,A2_point)\n",
    "    # print(A1_point, f1, f2, A2_point)\n",
    "    lista = [A1_point, f1, f2, A2_point]\n",
    "    x_u, y_u = u\n",
    "\n",
    "    # https://stackoverflow.com/questions/39840030/distance-between-point-and-a-line-from-two-points\n",
    "    \n",
    "    u = np.asarray(u)\n",
    "    f1 = np.asarray(f1)\n",
    "    f2 = np.asarray(f2)\n",
    "    A1_point = np.asarray(A1_point)\n",
    "    A2_point = np.asarray(A2_point)\n",
    "\n",
    "    # Odleglosc u od prostej A1_point, f1\n",
    "    d1 = norm(np.cross(f1-A1_point, A1_point-u))/norm(A1_point-u)\n",
    "    # Odleglosc u od prostej f1, f2\n",
    "    d2 = norm(np.cross(f2-f1, f1-u))/norm(f1-u)\n",
    "\n",
    "    # Odleglosc u od prostej f2, A2_point\n",
    "    d3 = norm(np.cross(A2_point-f2, f2-u))/norm(f2-u)\n",
    "\n",
    "    return min(d1, d2, d3), d1, d2, d3\n",
    "    \n",
    "\n",
    "# print(oblicz_d(dct[\"N22\"],dct['N12']))\n",
    "# print(oblicz_odleglosc(dct['N22'],dct['N12'],dct['N5']))\n",
    "\n",
    "def odleglosc(point_1,point_2):\n",
    "    x_1, y_1 = point_1\n",
    "    x_2, y_2 = point_2\n",
    "    return ((x_2-x_1)**2 + (y_2 - y_1)**2)**(1/2)\n",
    "\n",
    "def oblicz_wspolczynnik_skoringowy(u,A1_point,A2_point):\n",
    "    # odle, idx, f1, f2 = oblicz_odleglosc(u,A1_point,A2_point)\n",
    "    # odleglosci = [odleglosc(A1_point,f1),odleglosc(f1,f2),odleglosc(f2,A2_point)]\n",
    "    # suma = odleglosci[0] + odleglosci[1] + odleglosci[2]\n",
    "    y_max = A2_point[1]\n",
    "    y_min = A1_point[0]\n",
    "    return (u[1]-y_min)/(y_max-y_min)\n",
    "    # suma_1 = suma/suma\n",
    "    # # suma = 1\n",
    "    # waga = odleglosci[idx]/suma\n",
    "    # wsp_skoringowy = odle * waga\n",
    "    # return wsp_skoringowy\n",
    "\n",
    "ranking = []\n",
    "\n",
    "for point in B0:\n",
    "    suma = 0\n",
    "    for A1_point in A1:\n",
    "        for A2_point in A2:\n",
    "            suma += oblicz_wspolczynnik_skoringowy(point,A1_point,A2_point)\n",
    "            # krzywa_woronoya(point, A1_point, A2_point)\n",
    "            # print(\"wspol\", oblicz_wspolczynnik_skoringowy(point,A1_point,A2_point))\n",
    "    point = list(dct.keys())[list(dct.values()).index((point[0], point[1]))]\n",
    "    ranking.append((point,suma))\n",
    "\n",
    "ranking = sorted(ranking, key = lambda tup: tup[1], reverse=False)\n",
    "# print(oblicz_wspolczynnik_skoringowy())\n",
    "# print(ranking)\n",
    "X = oblicz_odleglosc(dct['N22'], dct['N11'], dct['N25'])\n",
    "print(X)\n",
    "krzywa_woronoya(dct['N22'], dct['N11'], dct['N25'])"
   ]
  },
  {
   "cell_type": "code",
   "execution_count": 84,
   "metadata": {},
   "outputs": [
    {
     "data": {
      "text/plain": [
       "(0.9970544855015815, 2.9154759474226504, 0.9970544855015815, 9.126883367283707)"
      ]
     },
     "execution_count": 84,
     "metadata": {},
     "output_type": "execute_result"
    }
   ],
   "source": [
    "# plt.figure()\n",
    "# plt.scatter([dct['N11'][0], dct['N22'][0], dct['N25'][0]], [dct['N11'][1], dct['N22'][1], dct['N25'][1]])\n",
    "# plt.plot([dct['N11'][0], X[1][0], X[2][0], dct['N25'][0]], [dct['N11'][1], X[1][1], X[2][1], dct['N25'][1]])\n",
    "# plt.show()\n",
    "\n",
    "oblicz_odleglosc(dct['N20'], dct['N11'], dct['N25'])"
   ]
  },
  {
   "cell_type": "code",
   "execution_count": 85,
   "metadata": {},
   "outputs": [
    {
     "data": {
      "image/png": "[encoded data removed]",
      "text/plain": [
       "<Figure size 720x504 with 1 Axes>"
      ]
     },
     "metadata": {
      "needs_background": "light"
     },
     "output_type": "display_data"
    }
   ],
   "source": [
    "krzywa_woronoya(dct['N20'], dct['N11'], dct['N25'])"
   ]
  },
  {
   "cell_type": "code",
   "execution_count": 86,
   "metadata": {},
   "outputs": [
    {
     "data": {
      "image/png": "[encoded data removed]",
      "text/plain": [
       "<Figure size 1440x1080 with 1 Axes>"
      ]
     },
     "metadata": {
      "needs_background": "light"
     },
     "output_type": "display_data"
    }
   ],
   "source": [
    "plot_points(B0)"
   ]
  }
 ],
 "metadata": {
  "interpreter": {
   "hash": "b3ba2566441a7c06988d0923437866b63cedc61552a5af99d1f4fb67d367b25f"
  },
  "kernelspec": {
   "display_name": "Python 3.8.8 64-bit ('base': conda)",
   "language": "python",
   "name": "python3"
  },
  "language_info": {
   "codemirror_mode": {
    "name": "ipython",
    "version": 3
   },
   "file_extension": ".py",
   "mimetype": "text/x-python",
   "name": "python",
   "nbconvert_exporter": "python",
   "pygments_lexer": "ipython3",
   "version": "3.8.8"
  },
  "orig_nbformat": 4
 },
 "nbformat": 4,
 "nbformat_minor": 2
}
